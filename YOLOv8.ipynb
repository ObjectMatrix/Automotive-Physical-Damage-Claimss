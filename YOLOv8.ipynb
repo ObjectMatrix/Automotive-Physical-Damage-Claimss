{
  "nbformat": 4,
  "nbformat_minor": 0,
  "metadata": {
    "colab": {
      "provenance": [],
      "gpuType": "V100",
      "toc_visible": true,
      "mount_file_id": "https://github.com/ObjectMatrix/Automotive-Physical-Damage-Claimss/blob/main/YOLOv8.ipynb",
      "authorship_tag": "ABX9TyP+DjyUmvI43rprd4zh/RFr",
      "include_colab_link": true
    },
    "kernelspec": {
      "name": "python3",
      "display_name": "Python 3"
    },
    "language_info": {
      "name": "python"
    },
    "accelerator": "GPU"
  },
  "cells": [
    {
      "cell_type": "markdown",
      "metadata": {
        "id": "view-in-github",
        "colab_type": "text"
      },
      "source": [
        "<a href=\"https://colab.research.google.com/github/ObjectMatrix/Automotive-Physical-Damage-Claimss/blob/main/YOLOv8.ipynb\" target=\"_parent\"><img src=\"https://colab.research.google.com/assets/colab-badge.svg\" alt=\"Open In Colab\"/></a>"
      ]
    },
    {
      "cell_type": "markdown",
      "source": [
        "<!--\n",
        "<View>\n",
        "  <Header value=\"Select label and click the image to start\"/>\n",
        "  <Image name=\"image\" value=\"$image\" zoom=\"true\"/>\n",
        "\n",
        "  <PolygonLabels name=\"label\" toName=\"image\" strokeWidth=\"3\" pointSize=\"small\" opacity=\"0.9\">\n",
        "    \n",
        "    <Label value=\"door-minor-damage\" background=\"#FFA39E\"/>\n",
        "    <Label value=\"door-severe-damage\" background=\"#D4380D\"/>\n",
        "    <Label value=\"hood\" background=\"#FFC069\"/>\n",
        "    <Label value=\"windshield\" background=\"#AD8B00\"/>\n",
        "    <Label value=\"trunk\" background=\"#D3F261\"/>\n",
        "    <Label value=\"dent\" background=\"#389E0D\"/>\n",
        "    <Label value=\"window\" background=\"#5CDBD3\"/>\n",
        "    <Label value=\"bumper\" background=\"#096DD9\"/>\n",
        "    <Label value=\"mirror\" background=\"#ADC6FF\"/>\n",
        "    <Label value=\"headlight\" background=\"#9254DE\"/>\n",
        "    <Label value=\"totaled\" background=\"#F759AB\"/>\n",
        "    <Label value=\"rear-windshield-damage\" background=\"#000000\"/>\n",
        "  </PolygonLabels>\n",
        "  \n",
        "  <Header value=\"Select category if Damaged or Not\"/>\n",
        "  <Choices name=\"tag\" toName=\"img\" choice=\"single\">\n",
        "    <Choice value=\"undamaged car\" background=\"#FFC069\" />\n",
        "    <Choice value=\"damaged car\" background=\"#D3F261\" />\n",
        "  </Choices>\n",
        "  <Image name=\"img\" value=\"$image\"/>\n",
        "</View>\n",
        "-->"
      ],
      "metadata": {
        "id": "nyuxSCU2Sw28"
      }
    },
    {
      "cell_type": "markdown",
      "source": [
        "```\n",
        "path: /content/drive/MyDrive/input/YOLO/source/images\n",
        "train: /content/drive/MyDrive/input/YOLO/source/images\n",
        "val: /content/drive/MyDrive/input/YOLO/source/images/\n",
        "name: /content/drive/MyDrive/input/YOLO\n",
        "\n",
        "\n",
        "path: /content/drive/MyDrive/input/YOLO/source/images\n",
        "train: /content/drive/MyDrive/input/YOLO/source/images\n",
        "val: /content/drive/MyDrive/input/YOLO/source/images/\n",
        "name: /content/drive/MyDrive/input/YOLO\n",
        "\n",
        "```"
      ],
      "metadata": {
        "id": "-QkmtRo6hozr"
      }
    },
    {
      "cell_type": "markdown",
      "source": [],
      "metadata": {
        "id": "XvrQs5Echh81"
      }
    },
    {
      "cell_type": "code",
      "source": [
        "!nvidia-smi"
      ],
      "metadata": {
        "id": "ErSaRvWGjGa0"
      },
      "execution_count": null,
      "outputs": []
    },
    {
      "cell_type": "code",
      "source": [
        "!pip install ultralytics;"
      ],
      "metadata": {
        "id": "MKYKoLEOdjWV"
      },
      "execution_count": null,
      "outputs": []
    },
    {
      "cell_type": "code",
      "source": [
        "from ultralytics import YOLO"
      ],
      "metadata": {
        "id": "_v5p0heVSax3"
      },
      "execution_count": null,
      "outputs": []
    },
    {
      "cell_type": "code",
      "source": [
        "# Load a model\n",
        "model = YOLO('yolov8s.yaml')  # build a new model from YAML\n",
        "model = YOLO('yolov8s.pt')  # load a pretrained model (recommended for training)\n",
        "model = YOLO('yolov8s.yaml').load('yolov8s.pt')  # build from YAML and transfer weights\n"
      ],
      "metadata": {
        "id": "kh6nMKhGN8s3"
      },
      "execution_count": null,
      "outputs": []
    },
    {
      "cell_type": "code",
      "source": [
        "# Use the model^ and train it\n",
        "results = model.train(data=\"/content/drive/MyDrive/input/YOLO/config.yaml\", epochs=1000)  # train the model"
      ],
      "metadata": {
        "id": "SIQ-1zkYOLF9"
      },
      "execution_count": null,
      "outputs": []
    },
    {
      "cell_type": "code",
      "source": [
        "from google.colab.patches import cv2_imshow"
      ],
      "metadata": {
        "id": "onM2q0FN2POZ"
      },
      "execution_count": null,
      "outputs": []
    },
    {
      "cell_type": "code",
      "source": [
        "# from ultralytics import YOLO\n",
        "\n",
        "# Load a pretrained YOLOv8n model\n",
        "\n",
        "model = YOLO('/content/drive/MyDrive/input/YOLO/best.pt')\n",
        "source='/content/drive/MyDrive/input/car-images/data1a/training/00-damage/0528.JPEG'\n",
        "\n",
        "# Run inference on the source\n",
        "# results = model(source)  # list of Results objects\n",
        "results=model.predict(source, save=False, imgsz=320, conf=0.001)\n",
        "for result in results:\n",
        "  #  result.show()\n",
        "    res_plotted = result[0].plot()\n",
        "    cv2_imshow(res_plotted)\n",
        "\n"
      ],
      "metadata": {
        "id": "VWWVf3hKr_PZ"
      },
      "execution_count": null,
      "outputs": []
    }
  ]
}