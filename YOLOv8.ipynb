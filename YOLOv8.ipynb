{
  "nbformat": 4,
  "nbformat_minor": 0,
  "metadata": {
    "colab": {
      "provenance": [],
      "gpuType": "V100",
      "mount_file_id": "https://github.com/ObjectMatrix/Automotive-Physical-Damage-Claimss/blob/main/YOLOv8.ipynb",
      "authorship_tag": "ABX9TyN83QSkCZmDu3nPwPhdDBjW",
      "include_colab_link": true
    },
    "kernelspec": {
      "name": "python3",
      "display_name": "Python 3"
    },
    "language_info": {
      "name": "python"
    },
    "accelerator": "GPU"
  },
  "cells": [
    {
      "cell_type": "markdown",
      "metadata": {
        "id": "view-in-github",
        "colab_type": "text"
      },
      "source": [
        "<a href=\"https://colab.research.google.com/github/ObjectMatrix/Automotive-Physical-Damage-Claimss/blob/main/YOLOv8.ipynb\" target=\"_parent\"><img src=\"https://colab.research.google.com/assets/colab-badge.svg\" alt=\"Open In Colab\"/></a>"
      ]
    },
    {
      "cell_type": "markdown",
      "source": [
        "<!--\n",
        "<View>\n",
        "  <Header value=\"Select label and click the image to start\"/>\n",
        "  <Image name=\"image\" value=\"$image\" zoom=\"true\"/>\n",
        "\n",
        "  <PolygonLabels name=\"label\" toName=\"image\" strokeWidth=\"3\" pointSize=\"small\" opacity=\"0.9\">\n",
        "    \n",
        "    <Label value=\"door-minor-damage\" background=\"#FFA39E\"/>\n",
        "    <Label value=\"door-severe-damage\" background=\"#D4380D\"/>\n",
        "    <Label value=\"hood\" background=\"#FFC069\"/>\n",
        "    <Label value=\"windshield\" background=\"#AD8B00\"/>\n",
        "    <Label value=\"trunk\" background=\"#D3F261\"/>\n",
        "    <Label value=\"dent\" background=\"#389E0D\"/>\n",
        "    <Label value=\"window\" background=\"#5CDBD3\"/>\n",
        "    <Label value=\"bumper\" background=\"#096DD9\"/>\n",
        "    <Label value=\"mirror\" background=\"#ADC6FF\"/>\n",
        "    <Label value=\"headlight\" background=\"#9254DE\"/>\n",
        "    <Label value=\"totaled\" background=\"#F759AB\"/>\n",
        "    <Label value=\"rear-windshield-damage\" background=\"#000000\"/>\n",
        "  </PolygonLabels>\n",
        "  \n",
        "  <Header value=\"Select category if Damaged or Not\"/>\n",
        "  <Choices name=\"tag\" toName=\"img\" choice=\"single\">\n",
        "    <Choice value=\"undamaged car\" background=\"#FFC069\" />\n",
        "    <Choice value=\"damaged car\" background=\"#D3F261\" />\n",
        "  </Choices>\n",
        "  <Image name=\"img\" value=\"$image\"/>\n",
        "</View>\n",
        "-->"
      ],
      "metadata": {
        "id": "nyuxSCU2Sw28"
      }
    },
    {
      "cell_type": "code",
      "source": [
        "!nvidia-smi"
      ],
      "metadata": {
        "id": "ErSaRvWGjGa0"
      },
      "execution_count": null,
      "outputs": []
    },
    {
      "cell_type": "code",
      "source": [
        "!pip install ultralytics;"
      ],
      "metadata": {
        "id": "MKYKoLEOdjWV"
      },
      "execution_count": null,
      "outputs": []
    },
    {
      "cell_type": "code",
      "source": [
        "from ultralytics import YOLO"
      ],
      "metadata": {
        "id": "_v5p0heVSax3"
      },
      "execution_count": 3,
      "outputs": []
    },
    {
      "cell_type": "code",
      "source": [
        "# Load a model\n",
        "model = YOLO('yolov8s.yaml')  # build a new model from YAML\n",
        "model = YOLO('yolov8s.pt')  # load a pretrained model (recommended for training)\n",
        "model = YOLO('yolov8s.yaml').load('yolov8s.pt')  # build from YAML and transfer weights\n"
      ],
      "metadata": {
        "id": "kh6nMKhGN8s3",
        "colab": {
          "base_uri": "https://localhost:8080/"
        },
        "outputId": "f739e0df-35de-47c4-8110-e02f0b3427c8"
      },
      "execution_count": 35,
      "outputs": [
        {
          "output_type": "stream",
          "name": "stdout",
          "text": [
            "Downloading https://github.com/ultralytics/assets/releases/download/v8.1.0/yolov8s.pt to 'yolov8s.pt'...\n"
          ]
        },
        {
          "output_type": "stream",
          "name": "stderr",
          "text": [
            "100%|██████████| 21.5M/21.5M [00:00<00:00, 152MB/s]\n"
          ]
        },
        {
          "output_type": "stream",
          "name": "stdout",
          "text": [
            "Transferred 355/355 items from pretrained weights\n"
          ]
        }
      ]
    },
    {
      "cell_type": "code",
      "source": [
        "# Use the model^ and train it\n",
        "results = model.train(data=\"/content/drive/MyDrive/input/YOLO/config.yaml\", epochs=500)  # train the model"
      ],
      "metadata": {
        "id": "SIQ-1zkYOLF9"
      },
      "execution_count": null,
      "outputs": []
    },
    {
      "cell_type": "code",
      "source": [
        "# from ultralytics import YOLO\n",
        "\n",
        "# Load a pretrained YOLOv8n model\n",
        "model = YOLO('/content/runs/detect/train6/weights/best.pt')\n",
        "\n",
        "# Define path to the image file\n",
        "source = '/content/drive/MyDrive/input/YOLO/source/images/2d975ed8-0126.JPEG'\n",
        "\n",
        "# Run inference on the source\n",
        "# results = model(source)  # list of Results objects\n",
        "results = model.predict(source, save=True, imgsz=672, conf=0.0001)\n",
        "for result in results:\n",
        "   result.show()"
      ],
      "metadata": {
        "id": "qisyXzAlEn6W",
        "outputId": "9178e66b-3bdd-4f33-d29b-3b62b59c4b1c",
        "colab": {
          "base_uri": "https://localhost:8080/"
        }
      },
      "execution_count": 45,
      "outputs": [
        {
          "output_type": "stream",
          "name": "stdout",
          "text": [
            "\n",
            "image 1/1 /content/drive/MyDrive/input/YOLO/source/images/2d975ed8-0126.JPEG: 384x672 2 windshields, 13.0ms\n",
            "Speed: 1.8ms preprocess, 13.0ms inference, 1.4ms postprocess per image at shape (1, 3, 384, 672)\n",
            "Results saved to \u001b[1mruns/detect/predict26\u001b[0m\n"
          ]
        }
      ]
    },
    {
      "cell_type": "code",
      "source": [
        "# from ultralytics import YOLO\n",
        "\n",
        "# Load a pretrained YOLOv8n model\n",
        "\n",
        "model = YOLO('/content/runs/detect/train6/weights/best.pt')\n",
        "source='/content/drive/MyDrive/input/car-images/data1a/validation/00-damage/0015.JPEG'\n",
        "\n",
        "# Run inference on the source\n",
        "# results = model(source)  # list of Results objects\n",
        "results=model.predict(source, save=True, imgsz=672, conf=0.001)\n",
        "for result in results:\n",
        "   result.show()"
      ],
      "metadata": {
        "colab": {
          "base_uri": "https://localhost:8080/"
        },
        "id": "VWWVf3hKr_PZ",
        "outputId": "6b7bfe01-a31a-4a84-b20e-a01ffcf54390"
      },
      "execution_count": 49,
      "outputs": [
        {
          "output_type": "stream",
          "name": "stdout",
          "text": [
            "\n",
            "image 1/1 /content/drive/MyDrive/input/car-images/data1a/validation/00-damage/0015.JPEG: 512x672 2 trunks, 12 bumpers, 20.5ms\n",
            "Speed: 2.7ms preprocess, 20.5ms inference, 2.2ms postprocess per image at shape (1, 3, 512, 672)\n",
            "Results saved to \u001b[1mruns/detect/predict30\u001b[0m\n"
          ]
        }
      ]
    }
  ]
}