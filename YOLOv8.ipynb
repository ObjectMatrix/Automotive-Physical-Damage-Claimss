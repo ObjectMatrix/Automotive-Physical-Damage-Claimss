{
  "nbformat": 4,
  "nbformat_minor": 0,
  "metadata": {
    "colab": {
      "provenance": [],
      "gpuType": "V100",
      "mount_file_id": "https://github.com/ObjectMatrix/Automotive-Physical-Damage-Claimss/blob/main/YOLOv8.ipynb",
      "authorship_tag": "ABX9TyNTrmZ0tu1WpKuVFxGg9KV4",
      "include_colab_link": true
    },
    "kernelspec": {
      "name": "python3",
      "display_name": "Python 3"
    },
    "language_info": {
      "name": "python"
    },
    "accelerator": "GPU"
  },
  "cells": [
    {
      "cell_type": "markdown",
      "metadata": {
        "id": "view-in-github",
        "colab_type": "text"
      },
      "source": [
        "<a href=\"https://colab.research.google.com/github/ObjectMatrix/Automotive-Physical-Damage-Claimss/blob/main/YOLOv8.ipynb\" target=\"_parent\"><img src=\"https://colab.research.google.com/assets/colab-badge.svg\" alt=\"Open In Colab\"/></a>"
      ]
    },
    {
      "cell_type": "code",
      "source": [
        "print('<View>')\n",
        "print('  <Header value=\"Select label and click the image to start\" />')\n",
        "print('  <Image name=\"image\" value=\"$image\" zoom=\"true\" />')\n",
        "print('')\n",
        "print('  <PolygonLabels name=\"label\" toName=\"image\" strokeWidth=\"3\" pointSize=\"small\" opacity=\"0.9\">')\n",
        "print('    <Label value=\"door-minor-damage\" background=\"#FFA39E\" />')\n",
        "print('    <Label value=\"door-severe-damage\" background=\"#D4380D\" />')\n",
        "print('    <Label value=\"hood\" background=\"#FFC069\" />')\n",
        "print('    <Label value=\"windshield\" background=\"#AD8B00\" />')\n",
        "print('    <Label value=\"trunk\" background=\"#D3F261\" />')\n",
        "print('    <Label value=\"dent\" background=\"#389E0D\" />')\n",
        "print('    <Label value=\"window\" background=\"#5CDBD3\" />')\n",
        "print('    <Label value=\"bumper\" background=\"#096DD9\" />')\n",
        "print('    <Label value=\"mirror\" background=\"#ADC6FF\" />')\n",
        "print('    <Label value=\"headlight\" background=\"#9254DE\" />')\n",
        "print('    <Label value=\"totaled\" background=\"#F759AB\" />')\n",
        "print('    <Label value=\"rear-windshield-damage\" background=\"#000000\" />')\n",
        "print('  </PolygonLabels>')\n",
        "print('')\n",
        "print('  <Header value=\"Select category if Damaged or Not\" />')\n",
        "print('  <Choices name=\"tag\" toName=\"img\" choice=\"single\">')\n",
        "print('    <Choice value=\"undamaged car\" background=\"#FFC069\" />')\n",
        "print('    <Choice value=\"damaged car\" background=\"#D3F261\" />')\n",
        "print('  </Choices>')\n",
        "print('  <Image name=\"img\" value=\"$image\" />')\n",
        "print('</View>')"
      ],
      "metadata": {
        "id": "YuLKgYB4WrjQ",
        "outputId": "f56fadee-38f9-4b3e-eb9e-886cc37f03ac",
        "colab": {
          "base_uri": "https://localhost:8080/"
        }
      },
      "execution_count": 5,
      "outputs": [
        {
          "output_type": "stream",
          "name": "stdout",
          "text": [
            "<View>\n",
            "  <Header value=\"Select label and click the image to start\" />\n",
            "  <Image name=\"image\" value=\"$image\" zoom=\"true\" />\n",
            "\n",
            "  <PolygonLabels name=\"label\" toName=\"image\" strokeWidth=\"3\" pointSize=\"small\" opacity=\"0.9\">\n",
            "    <Label value=\"door-minor-damage\" background=\"#FFA39E\" />\n",
            "    <Label value=\"door-severe-damage\" background=\"#D4380D\" />\n",
            "    <Label value=\"hood\" background=\"#FFC069\" />\n",
            "    <Label value=\"windshield\" background=\"#AD8B00\" />\n",
            "    <Label value=\"trunk\" background=\"#D3F261\" />\n",
            "    <Label value=\"dent\" background=\"#389E0D\" />\n",
            "    <Label value=\"window\" background=\"#5CDBD3\" />\n",
            "    <Label value=\"bumper\" background=\"#096DD9\" />\n",
            "    <Label value=\"mirror\" background=\"#ADC6FF\" />\n",
            "    <Label value=\"headlight\" background=\"#9254DE\" />\n",
            "    <Label value=\"totaled\" background=\"#F759AB\" />\n",
            "    <Label value=\"rear-windshield-damage\" background=\"#000000\" />\n",
            "  </PolygonLabels>\n",
            "\n",
            "  <Header value=\"Select category if Damaged or Not\" />\n",
            "  <Choices name=\"tag\" toName=\"img\" choice=\"single\">\n",
            "    <Choice value=\"undamaged car\" background=\"#FFC069\" />\n",
            "    <Choice value=\"damaged car\" background=\"#D3F261\" />\n",
            "  </Choices>\n",
            "  <Image name=\"img\" value=\"$image\" />\n",
            "</View>\n"
          ]
        }
      ]
    },
    {
      "cell_type": "markdown",
      "source": [
        "<h4> Car Damage Classes</h4>\n",
        "\n",
        "door-severe-damage <br />\n",
        "hood<br />\n",
        "windshield<br />\n",
        "trunk<br />\n",
        "dent<br />\n",
        "window<br />\n",
        "bumper<br />\n",
        "mirror<br />\n",
        "headlight<br />\n",
        "totaled<br />\n",
        "rear-windshield-damage"
      ],
      "metadata": {
        "id": "xXhZmY3aS-em"
      }
    },
    {
      "cell_type": "markdown",
      "source": [
        "<!--\n",
        "<View>\n",
        "  <Header value=\"Select label and click the image to start\"/>\n",
        "  <Image name=\"image\" value=\"$image\" zoom=\"true\"/>\n",
        "\n",
        "  <PolygonLabels name=\"label\" toName=\"image\" strokeWidth=\"3\" pointSize=\"small\" opacity=\"0.9\">\n",
        "    \n",
        "    <Label value=\"door-minor-damage\" background=\"#FFA39E\"/>\n",
        "    <Label value=\"door-severe-damage\" background=\"#D4380D\"/>\n",
        "    <Label value=\"hood\" background=\"#FFC069\"/>\n",
        "    <Label value=\"windshield\" background=\"#AD8B00\"/>\n",
        "    <Label value=\"trunk\" background=\"#D3F261\"/>\n",
        "    <Label value=\"dent\" background=\"#389E0D\"/>\n",
        "    <Label value=\"window\" background=\"#5CDBD3\"/>\n",
        "    <Label value=\"bumper\" background=\"#096DD9\"/>\n",
        "    <Label value=\"mirror\" background=\"#ADC6FF\"/>\n",
        "    <Label value=\"headlight\" background=\"#9254DE\"/>\n",
        "    <Label value=\"totaled\" background=\"#F759AB\"/>\n",
        "    <Label value=\"rear-windshield-damage\" background=\"#000000\"/>\n",
        "  </PolygonLabels>\n",
        "  \n",
        "  <Header value=\"Select category if Damaged or Not\"/>\n",
        "  <Choices name=\"tag\" toName=\"img\" choice=\"single\">\n",
        "    <Choice value=\"undamaged car\" background=\"#FFC069\" />\n",
        "    <Choice value=\"damaged car\" background=\"#D3F261\" />\n",
        "  </Choices>\n",
        "  <Image name=\"img\" value=\"$image\"/>\n",
        "</View>\n",
        "-->"
      ],
      "metadata": {
        "id": "nyuxSCU2Sw28"
      }
    },
    {
      "cell_type": "code",
      "execution_count": null,
      "metadata": {
        "id": "IRjpne2Vc7i7",
        "colab": {
          "base_uri": "https://localhost:8080/"
        },
        "outputId": "d228995f-1095-493e-b8a6-2e10d1cf52fd"
      },
      "outputs": [
        {
          "output_type": "stream",
          "name": "stdout",
          "text": [
            "Tue Feb 20 01:44:19 2024       \n",
            "+---------------------------------------------------------------------------------------+\n",
            "| NVIDIA-SMI 535.104.05             Driver Version: 535.104.05   CUDA Version: 12.2     |\n",
            "|-----------------------------------------+----------------------+----------------------+\n",
            "| GPU  Name                 Persistence-M | Bus-Id        Disp.A | Volatile Uncorr. ECC |\n",
            "| Fan  Temp   Perf          Pwr:Usage/Cap |         Memory-Usage | GPU-Util  Compute M. |\n",
            "|                                         |                      |               MIG M. |\n",
            "|=========================================+======================+======================|\n",
            "|   0  Tesla V100-SXM2-16GB           Off | 00000000:00:04.0 Off |                    0 |\n",
            "| N/A   37C    P0              26W / 300W |      0MiB / 16384MiB |      0%      Default |\n",
            "|                                         |                      |                  N/A |\n",
            "+-----------------------------------------+----------------------+----------------------+\n",
            "                                                                                         \n",
            "+---------------------------------------------------------------------------------------+\n",
            "| Processes:                                                                            |\n",
            "|  GPU   GI   CI        PID   Type   Process name                            GPU Memory |\n",
            "|        ID   ID                                                             Usage      |\n",
            "|=======================================================================================|\n",
            "|  No running processes found                                                           |\n",
            "+---------------------------------------------------------------------------------------+\n"
          ]
        }
      ],
      "source": [
        "!nvidia-smi"
      ]
    },
    {
      "cell_type": "code",
      "source": [
        "!pip install ultralytics;"
      ],
      "metadata": {
        "id": "MKYKoLEOdjWV"
      },
      "execution_count": null,
      "outputs": []
    },
    {
      "cell_type": "code",
      "source": [
        "from ultralytics import YOLO"
      ],
      "metadata": {
        "id": "_v5p0heVSax3"
      },
      "execution_count": null,
      "outputs": []
    },
    {
      "cell_type": "code",
      "source": [
        "# Load a model\n",
        "# model = YOLO('yolov8n.yaml')  # build a new model from YAML\n",
        "model = YOLO('yolov8n.pt')  # load a pretrained model (recommended for training)\n",
        "# model = YOLO('yolov8n.yaml').load('yolov8n.pt')  # build from YAML and transfer weights\n"
      ],
      "metadata": {
        "id": "kh6nMKhGN8s3",
        "colab": {
          "base_uri": "https://localhost:8080/"
        },
        "outputId": "50e7520d-bfa3-4d16-fead-109d55b23eb2"
      },
      "execution_count": null,
      "outputs": [
        {
          "output_type": "stream",
          "name": "stdout",
          "text": [
            "Downloading https://github.com/ultralytics/assets/releases/download/v8.1.0/yolov8n.pt to 'yolov8n.pt'...\n"
          ]
        },
        {
          "output_type": "stream",
          "name": "stderr",
          "text": [
            "100%|██████████| 6.23M/6.23M [00:00<00:00, 25.7MB/s]\n"
          ]
        },
        {
          "output_type": "stream",
          "name": "stdout",
          "text": [
            "Transferred 355/355 items from pretrained weights\n"
          ]
        }
      ]
    },
    {
      "cell_type": "code",
      "source": [
        "# Use the model^ and train it\n",
        "results = model.train(data=\"/content/drive/MyDrive/input/YOLO/config.yaml\", epochs=200)  # train the model"
      ],
      "metadata": {
        "id": "SIQ-1zkYOLF9"
      },
      "execution_count": null,
      "outputs": []
    },
    {
      "cell_type": "code",
      "source": [
        "from ultralytics import YOLO\n",
        "\n",
        "# Load a pretrained YOLOv8n model\n",
        "model = YOLO('yolov8n.pt')\n",
        "\n",
        "# Define path to the image file\n",
        "source = 'path/to/image.jpg'\n",
        "\n",
        "# Run inference on the source\n",
        "results = model(source)  # list of Results objects"
      ],
      "metadata": {
        "id": "qisyXzAlEn6W"
      },
      "execution_count": null,
      "outputs": []
    }
  ]
}